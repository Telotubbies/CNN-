{
  "cells": [
    {
      "cell_type": "markdown",
      "id": "title",
      "metadata": {
        "id": "title"
      },
      "source": [
        "# ResNet-9 — 3D-Print Defect Detection (Safe FP32, Label Mapping in Dataset)\n",
        "\n",
        "เวอร์ชันนี้ตั้งค่าให้ **นิ่งก่อน**: ไม่ใช้ AMP, ไม่ใช้ fused op ของ `torchvision.ops.misc`, map labels ภายใน `Dataset`, และมี **preflight** ตรวจ CPU/GPU forward ก่อนเข้าเทรน\n",
        "\n",
        "> หลังรันจบและนิ่งแล้ว ค่อยเปิด AMP/pin_memory/non_blocking และ cuDNN ทีละอย่างภายหลังได้"
      ]
    },
    {
      "cell_type": "code",
      "execution_count": 1,
      "id": "install",
      "metadata": {
        "id": "install"
      },
      "outputs": [
        {
          "name": "stdout",
          "output_type": "stream",
          "text": [
            "Requirement already satisfied: numpy in /home/a/rocm_env/lib/python3.12/site-packages (2.3.3)\n",
            "Requirement already satisfied: pandas in /home/a/rocm_env/lib/python3.12/site-packages (2.3.2)\n",
            "Requirement already satisfied: pillow in /home/a/rocm_env/lib/python3.12/site-packages (11.3.0)\n",
            "Requirement already satisfied: torch in /home/a/rocm_env/lib/python3.12/site-packages (2.10.0.dev20250926+rocm6.4)\n",
            "Requirement already satisfied: torchvision in /home/a/rocm_env/lib/python3.12/site-packages (0.25.0.dev20250927+rocm6.4)\n",
            "Requirement already satisfied: scikit-learn in /home/a/rocm_env/lib/python3.12/site-packages (1.7.2)\n",
            "Requirement already satisfied: matplotlib in /home/a/rocm_env/lib/python3.12/site-packages (3.10.6)\n",
            "Requirement already satisfied: tqdm in /home/a/rocm_env/lib/python3.12/site-packages (4.67.1)\n",
            "Requirement already satisfied: python-dateutil>=2.8.2 in /home/a/rocm_env/lib/python3.12/site-packages (from pandas) (2.9.0.post0)\n",
            "Requirement already satisfied: pytz>=2020.1 in /home/a/rocm_env/lib/python3.12/site-packages (from pandas) (2025.2)\n",
            "Requirement already satisfied: tzdata>=2022.7 in /home/a/rocm_env/lib/python3.12/site-packages (from pandas) (2025.2)\n",
            "Requirement already satisfied: filelock in /home/a/rocm_env/lib/python3.12/site-packages (from torch) (3.19.1)\n",
            "Requirement already satisfied: typing-extensions>=4.10.0 in /home/a/rocm_env/lib/python3.12/site-packages (from torch) (4.15.0)\n",
            "Requirement already satisfied: setuptools in /home/a/rocm_env/lib/python3.12/site-packages (from torch) (80.9.0)\n",
            "Requirement already satisfied: sympy>=1.13.3 in /home/a/rocm_env/lib/python3.12/site-packages (from torch) (1.14.0)\n",
            "Requirement already satisfied: networkx>=2.5.1 in /home/a/rocm_env/lib/python3.12/site-packages (from torch) (3.5)\n",
            "Requirement already satisfied: jinja2 in /home/a/rocm_env/lib/python3.12/site-packages (from torch) (3.1.6)\n",
            "Requirement already satisfied: fsspec>=0.8.5 in /home/a/rocm_env/lib/python3.12/site-packages (from torch) (2025.9.0)\n",
            "Requirement already satisfied: pytorch-triton-rocm==3.5.0+gitbbb06c03 in /home/a/rocm_env/lib/python3.12/site-packages (from torch) (3.5.0+gitbbb06c03)\n",
            "Requirement already satisfied: scipy>=1.8.0 in /home/a/rocm_env/lib/python3.12/site-packages (from scikit-learn) (1.16.2)\n",
            "Requirement already satisfied: joblib>=1.2.0 in /home/a/rocm_env/lib/python3.12/site-packages (from scikit-learn) (1.5.2)\n",
            "Requirement already satisfied: threadpoolctl>=3.1.0 in /home/a/rocm_env/lib/python3.12/site-packages (from scikit-learn) (3.6.0)\n",
            "Requirement already satisfied: contourpy>=1.0.1 in /home/a/rocm_env/lib/python3.12/site-packages (from matplotlib) (1.3.3)\n",
            "Requirement already satisfied: cycler>=0.10 in /home/a/rocm_env/lib/python3.12/site-packages (from matplotlib) (0.12.1)\n",
            "Requirement already satisfied: fonttools>=4.22.0 in /home/a/rocm_env/lib/python3.12/site-packages (from matplotlib) (4.60.0)\n",
            "Requirement already satisfied: kiwisolver>=1.3.1 in /home/a/rocm_env/lib/python3.12/site-packages (from matplotlib) (1.4.9)\n",
            "Requirement already satisfied: packaging>=20.0 in /home/a/rocm_env/lib/python3.12/site-packages (from matplotlib) (25.0)\n",
            "Requirement already satisfied: pyparsing>=2.3.1 in /home/a/rocm_env/lib/python3.12/site-packages (from matplotlib) (3.2.5)\n",
            "Requirement already satisfied: six>=1.5 in /home/a/rocm_env/lib/python3.12/site-packages (from python-dateutil>=2.8.2->pandas) (1.17.0)\n",
            "Requirement already satisfied: mpmath<1.4,>=1.1.0 in /home/a/rocm_env/lib/python3.12/site-packages (from sympy>=1.13.3->torch) (1.3.0)\n",
            "Requirement already satisfied: MarkupSafe>=2.0 in /home/a/rocm_env/lib/python3.12/site-packages (from jinja2->torch) (3.0.2)\n",
            "Note: you may need to restart the kernel to use updated packages.\n"
          ]
        }
      ],
      "source": [
        "pip install numpy pandas pillow torch torchvision scikit-learn matplotlib tqdm\n"
      ]
    },
    {
      "cell_type": "code",
      "execution_count": 2,
      "id": "env_first",
      "metadata": {
        "id": "env_first"
      },
      "outputs": [],
      "source": [
        "# ต้องรันเซลล์นี้ก่อน import torch เพื่อให้ traceback ชี้บรรทัดจริงเวลามีเคอร์เนลพัง\n",
        "import os\n",
        "os.environ[\"CUDA_LAUNCH_BLOCKING\"] = \"1\""
      ]
    },
    {
      "cell_type": "code",
      "execution_count": 3,
      "id": "imports",
      "metadata": {
        "colab": {
          "base_uri": "https://localhost:8080/"
        },
        "id": "imports",
        "outputId": "5addf0bf-de4d-4552-de78-bbe23f04890d"
      },
      "outputs": [
        {
          "name": "stdout",
          "output_type": "stream",
          "text": [
            "Device: cuda\n"
          ]
        }
      ],
      "source": [
        "import os, random\n",
        "from pathlib import Path\n",
        "import numpy as np\n",
        "import pandas as pd\n",
        "from PIL import Image, ImageFile\n",
        "ImageFile.LOAD_TRUNCATED_IMAGES = True\n",
        "\n",
        "import torch, torch.nn as nn, torch.optim as optim\n",
        "from torch.utils.data import Dataset, DataLoader\n",
        "from torchvision import transforms\n",
        "from sklearn.model_selection import GroupShuffleSplit, StratifiedShuffleSplit\n",
        "from sklearn.metrics import confusion_matrix, ConfusionMatrixDisplay, accuracy_score\n",
        "import matplotlib.pyplot as plt\n",
        "import torch.backends.cudnn as cudnn\n",
        "\n",
        "# reproducibility\n",
        "SEED = 1337\n",
        "random.seed(SEED); np.random.seed(SEED)\n",
        "torch.manual_seed(SEED); torch.cuda.manual_seed_all(SEED)\n",
        "\n",
        "device = torch.device(\"cuda\" if torch.cuda.is_available() else \"cpu\")\n",
        "print(\"Device:\", device)"
      ]
    },
    {
      "cell_type": "code",
      "execution_count": 4,
      "id": "drive_and_paths",
      "metadata": {
        "colab": {
          "base_uri": "https://localhost:8080/"
        },
        "id": "drive_and_paths",
        "outputId": "e1c8a120-42c4-401a-e0a1-f0dc2c4a1937"
      },
      "outputs": [
        {
          "name": "stdout",
          "output_type": "stream",
          "text": [
            "ROOT: /home/a/rocm_env/bin/Printing_Errors\n",
            "IMAGES_ROOT exists: True\n",
            "CSV_MASTER exists: True\n"
          ]
        }
      ],
      "source": [
        "IN_COLAB = False\n",
        "try:\n",
        "    from google.colab import drive  # type: ignore\n",
        "    IN_COLAB = True\n",
        "except ImportError:\n",
        "    IN_COLAB = False\n",
        "\n",
        "if IN_COLAB:\n",
        "    drive.mount('/content/drive')\n",
        "    ROOT = Path(\"/content/drive/MyDrive/Colab Notebooks/CNN-detect 3dprint-fail\")\n",
        "else:\n",
        "    # 🖥️ บนเครื่อง (แก้ path ให้ตรงกับโฟลเดอร์โปรเจกต์คุณ)\n",
        "    ROOT = Path(r\"/home/a/rocm_env/bin/Printing_Errors\")\n",
        "\n",
        "IMAGES_ROOT  = ROOT / \"images\"                 \n",
        "TRAIN_SUBDIR = \"all_images256\"                 \n",
        "CSV_MASTER   = ROOT / \"general_data\" / \"all_images_no_filter.csv\"\n",
        "SPLIT_DIR    = ROOT / \"splits\"\n",
        "SPLIT_DIR.mkdir(parents=True, exist_ok=True)\n",
        "\n",
        "CLASS_RAW    = [0,1,2,4]\n",
        "RAW2IDX      = {r:i for i, r in enumerate(CLASS_RAW)}\n",
        "IDX2RAW      = {i:r for r,i in RAW2IDX.items()}\n",
        "NUM_CLASSES  = len(CLASS_RAW)\n",
        "\n",
        "print(\"ROOT:\", ROOT)\n",
        "print(\"IMAGES_ROOT exists:\", IMAGES_ROOT.exists())\n",
        "print(\"CSV_MASTER exists:\", CSV_MASTER.exists())"
      ]
    },
    {
      "cell_type": "code",
      "execution_count": 5,
      "id": "load_csv_and_split",
      "metadata": {
        "colab": {
          "base_uri": "https://localhost:8080/"
        },
        "id": "load_csv_and_split",
        "outputId": "a27a53a5-0926-4bcf-d019-5358b14ad3ee"
      },
      "outputs": [
        {
          "name": "stdout",
          "output_type": "stream",
          "text": [
            "Total images (train domain & exists): 16287\n",
            "Split sizes -> Train: 11456  Test: 4831\n",
            "\n",
            "Class distribution in training set:\n",
            "class\n",
            "0    5133\n",
            "1    3184\n",
            "2    2977\n",
            "4     162\n",
            "Name: count, dtype: int64\n",
            "\n",
            "Class distribution in testing set:\n",
            "class\n",
            "1    2328\n",
            "0    1893\n",
            "2     532\n",
            "4      78\n",
            "Name: count, dtype: int64\n"
          ]
        }
      ],
      "source": [
        "# --- โหลด CSV (auto delimiter) ---\n",
        "df_master = pd.read_csv(CSV_MASTER, sep=None, engine='python', encoding='utf-8')\n",
        "df_master.columns = [c.strip() for c in df_master.columns]\n",
        "assert {\"image\",\"class\"}.issubset(df_master.columns), \"CSV must include 'image' and 'class'\"\n",
        "\n",
        "# เฉพาะคลาสที่ใช้\n",
        "df_master = df_master[df_master[\"class\"].isin(CLASS_RAW)].copy()\n",
        "\n",
        "# normalize path\n",
        "df_master[\"image\"] = df_master[\"image\"].astype(str).str.strip().str.replace(\"\\\\\", \"/\", regex=False)\n",
        "\n",
        "def ensure_subdir_path(s: str) -> str:\n",
        "    return s if \"/\" in s else f\"{TRAIN_SUBDIR}/{s}\"\n",
        "df_master[\"image\"] = df_master[\"image\"].apply(ensure_subdir_path)\n",
        "\n",
        "# เก็บเฉพาะที่อยู่ในโดเมน train_subdir\n",
        "df_master = df_master[df_master[\"image\"].str.startswith(f\"{TRAIN_SUBDIR}/\", na=False)].reset_index(drop=True)\n",
        "\n",
        "# เก็บเฉพาะไฟล์ที่มีจริง\n",
        "def exists_image(rel: str) -> bool:\n",
        "    return (IMAGES_ROOT / rel).exists()\n",
        "df_master = df_master[df_master[\"image\"].apply(exists_image)].reset_index(drop=True)\n",
        "print(\"Total images (train domain & exists):\", len(df_master))\n",
        "\n",
        "# --- Split Train and Test ---\n",
        "def split_train_test(df, group_col=\"recording\", test_size=0.30, seed=42):\n",
        "    if group_col in df.columns and df[group_col].notna().any():\n",
        "        groups = df[group_col].fillna(\"nogroup\")\n",
        "        gss = GroupShuffleSplit(n_splits=1, test_size=test_size, random_state=seed)\n",
        "        i_tr, i_te = next(gss.split(df, groups=groups))\n",
        "        return df.iloc[i_tr].copy(), df.iloc[i_te].copy()\n",
        "    else:\n",
        "        y = df[\"class\"]\n",
        "        sss = StratifiedShuffleSplit(n_splits=1, test_size=test_size, random_state=seed)\n",
        "        i_tr, i_te = next(sss.split(df, y))\n",
        "        return df.iloc[i_tr].copy(), df.iloc[i_te].copy()\n",
        "\n",
        "# Split into train and test sets\n",
        "df_tr, df_te = split_train_test(df_master, group_col=\"recording\", test_size=0.30, seed=42)\n",
        "\n",
        "# Save the split data\n",
        "df_tr.to_csv(SPLIT_DIR/\"train.csv\", index=False)\n",
        "df_te.to_csv(SPLIT_DIR/\"test.csv\", index=False)\n",
        "\n",
        "# --- Display class distribution in Train and Test sets ---\n",
        "print(\"Split sizes -> Train:\", len(df_tr), \" Test:\", len(df_te))\n",
        "\n",
        "# Show class distribution in the training set\n",
        "print(\"\\nClass distribution in training set:\")\n",
        "print(df_tr[\"class\"].value_counts())\n",
        "\n",
        "# Show class distribution in the testing set\n",
        "print(\"\\nClass distribution in testing set:\")\n",
        "print(df_te[\"class\"].value_counts())\n"
      ]
    },
    {
      "cell_type": "code",
      "execution_count": 6,
      "id": "dataset_and_loader",
      "metadata": {
        "colab": {
          "base_uri": "https://localhost:8080/"
        },
        "id": "dataset_and_loader",
        "outputId": "2162c778-8d68-43da-e6c4-a6e39e3ede5a"
      },
      "outputs": [
        {
          "name": "stdout",
          "output_type": "stream",
          "text": [
            "Batch: torch.Size([64, 3, 256, 256]) torch.float32 targets: 0 -> 3\n"
          ]
        }
      ],
      "source": [
        "# --- Dataset พร้อม map label ภายใน ---\n",
        "class CustomImageDataset(Dataset):\n",
        "    def __init__(self, df, root_dir, transform=None):\n",
        "        self.df = df.reset_index(drop=True)\n",
        "        self.root_dir = Path(root_dir)\n",
        "        self.transform = transform\n",
        "    def __len__(self): return len(self.df)\n",
        "    def __getitem__(self, idx):\n",
        "        p = self.root_dir / self.df.loc[idx, \"image\"]\n",
        "        y_raw = int(self.df.loc[idx, \"class\"])  # 0,1,2,4\n",
        "        y = RAW2IDX[y_raw]                       # 0..3\n",
        "        x = Image.open(p).convert(\"RGB\")\n",
        "        if self.transform: \n",
        "            x = self.transform(x)\n",
        "        return x, y\n",
        "\n",
        "transform = transforms.Compose([\n",
        "    transforms.Resize((256,256)),\n",
        "    transforms.ToTensor(),\n",
        "])\n",
        "\n",
        "ds_train = CustomImageDataset(df_tr, IMAGES_ROOT, transform)\n",
        "ds_test  = CustomImageDataset(df_te, IMAGES_ROOT, transform)\n",
        "\n",
        "BATCH = 64\n",
        "# ⚡ CPU friendly DataLoader (no pin_memory, no persistent_workers)\n",
        "train_ld = DataLoader(ds_train, batch_size=BATCH, shuffle=True,\n",
        "                      num_workers=4, pin_memory=True, persistent_workers=True)\n",
        "test_ld  = DataLoader(ds_test,  batch_size=BATCH, shuffle=False,\n",
        "                      num_workers=4, pin_memory=True, persistent_workers=True)\n",
        "\n",
        "# Sanity batch\n",
        "xb, yb = next(iter(train_ld))\n",
        "print(\"Batch:\", xb.shape, xb.dtype, \"targets:\", int(yb.min()), \"->\", int(yb.max()))\n"
      ]
    },
    {
      "cell_type": "code",
      "execution_count": 7,
      "id": "model_resnet9_safe",
      "metadata": {
        "colab": {
          "base_uri": "https://localhost:8080/"
        },
        "id": "model_resnet9_safe",
        "outputId": "eb698ffa-aa91-4718-fb57-1fa64f2c5c2e"
      },
      "outputs": [
        {
          "name": "stdout",
          "output_type": "stream",
          "text": [
            "ResNet9 on cuda\n"
          ]
        }
      ],
      "source": [
        "# --- ResNet-9 (Conv+BN+ReLU ธรรมดา; ไม่มี fused ops) ---\n",
        "def conv_bn_relu(in_c, out_c, k=3, s=1, p=1):\n",
        "    return nn.Sequential(\n",
        "        nn.Conv2d(in_c, out_c, kernel_size=k, stride=s, padding=p, bias=False),\n",
        "        nn.BatchNorm2d(out_c),\n",
        "        nn.ReLU(inplace=False),\n",
        "    )\n",
        "\n",
        "class BasicBlock(nn.Module):\n",
        "    def __init__(self, c):\n",
        "        super().__init__()\n",
        "        self.conv1 = conv_bn_relu(c, c)\n",
        "        self.conv2 = nn.Sequential(\n",
        "            nn.Conv2d(c, c, kernel_size=3, stride=1, padding=1, bias=False),\n",
        "            nn.BatchNorm2d(c),\n",
        "        )\n",
        "        self.relu = nn.ReLU(inplace=False)\n",
        "    def forward(self, x):\n",
        "        id = x\n",
        "        x = self.conv1(x)\n",
        "        x = self.conv2(x)\n",
        "        x = x + id\n",
        "        return self.relu(x)\n",
        "\n",
        "class ResNet9(nn.Module):\n",
        "    def __init__(self, in_ch=3, num_classes=NUM_CLASSES):\n",
        "        super().__init__()\n",
        "        self.layer1 = conv_bn_relu(in_ch, 64, 3, 1, 1)\n",
        "        self.layer2 = conv_bn_relu(64, 128, 3, 2, 1)\n",
        "        self.res1   = BasicBlock(128)\n",
        "        self.layer3 = conv_bn_relu(128, 256, 3, 2, 1)\n",
        "        self.layer4 = conv_bn_relu(256, 512, 3, 2, 1)\n",
        "        self.res2   = BasicBlock(512)\n",
        "        self.pool   = nn.AdaptiveAvgPool2d(1)\n",
        "        self.fc     = nn.Linear(512, NUM_CLASSES)\n",
        "    def forward(self, x):\n",
        "        x = self.layer1(x)\n",
        "        x = self.layer2(x); x = self.res1(x)\n",
        "        x = self.layer3(x)\n",
        "        x = self.layer4(x); x = self.res2(x)\n",
        "        x = self.pool(x).flatten(1)\n",
        "        return self.fc(x)\n",
        "\n",
        "model = ResNet9().float().to(device)\n",
        "print(model.__class__.__name__, \"on\", device)"
      ]
    },
    {
      "cell_type": "code",
      "execution_count": 8,
      "id": "preflight_forward",
      "metadata": {
        "colab": {
          "base_uri": "https://localhost:8080/"
        },
        "id": "preflight_forward",
        "outputId": "ebe150f0-1b5d-4b41-f782-f7e82957a760"
      },
      "outputs": [
        {
          "name": "stdout",
          "output_type": "stream",
          "text": [
            "[CPU] forward OK\n",
            "[GPU] forward OK (FP32, no AMP, no cuDNN)\n"
          ]
        }
      ],
      "source": [
        "# --- Preflight: CPU แล้ว GPU FP32 ---\n",
        "m_cpu = ResNet9().float().cpu().eval()\n",
        "with torch.no_grad():\n",
        "    _ = m_cpu(xb.float())\n",
        "print(\"[CPU] forward OK\")\n",
        "\n",
        "cudnn.enabled = False; cudnn.benchmark = False; cudnn.deterministic = True\n",
        "m_gpu = ResNet9().float().to(device).eval()\n",
        "with torch.no_grad():\n",
        "    _ = m_gpu(xb.float().to(device))\n",
        "print(\"[GPU] forward OK (FP32, no AMP, no cuDNN)\")"
      ]
    },
    {
      "cell_type": "code",
      "execution_count": 9,
      "id": "QHNUhX6spLqo",
      "metadata": {
        "colab": {
          "base_uri": "https://localhost:8080/"
        },
        "id": "QHNUhX6spLqo",
        "outputId": "20675dcf-1aad-45db-efd5-c4f3a0e69879"
      },
      "outputs": [
        {
          "name": "stdout",
          "output_type": "stream",
          "text": [
            "len(ds_train) = 11456  | len(train_ld) (batches) = 179\n",
            "[0] exists=True  -> /home/a/rocm_env/bin/Printing_Errors/images/all_images256/ELP_12MP_01.12.2022_166990882982.png\n",
            "[1] exists=True  -> /home/a/rocm_env/bin/Printing_Errors/images/all_images256/ELP_12MP_01.12.2022_166990882986.png\n",
            "[2] exists=True  -> /home/a/rocm_env/bin/Printing_Errors/images/all_images256/ELP_12MP_01.12.2022_166990887746.png\n",
            "First batch OK: torch.Size([64, 3, 256, 256]) torch.Size([64]) 0 2\n"
          ]
        }
      ],
      "source": [
        "print(\"len(ds_train) =\", len(ds_train), \" | len(train_ld) (batches) =\", len(train_ld))\n",
        "# ดูตัวอย่างไฟล์ 3 รายการแรก\n",
        "for i in range(min(3, len(ds_train))):\n",
        "    p = IMAGES_ROOT / ds_train.df.loc[i, \"image\"]\n",
        "    print(f\"[{i}] exists={p.exists()}  ->\", p)\n",
        "\n",
        "# ลองดึง batch แรก (จะรู้เลยว่าติดตรงนี้ไหม)\n",
        "xb, yb = next(iter(train_ld))\n",
        "print(\"First batch OK:\", xb.shape, yb.shape, yb.min().item(), yb.max().item())\n"
      ]
    },
    {
      "cell_type": "code",
      "execution_count": null,
      "id": "train_loop_safe",
      "metadata": {
        "colab": {
          "base_uri": "https://localhost:8080/",
          "height": 49,
          "referenced_widgets": [
            "42d6453b3c81448e87ec0f478701dc02",
            "02556a8473c64420b0e52504f556faa8",
            "0798fca77502449ca33a1113ff377e38",
            "9ca3a2f9945940f781f862a08a26f448",
            "0df1c59c93ec453889a9528306b14ea4",
            "3a2afb6f8f1e4df7b4791a575085b940",
            "05cdd4eb841a4d1c86c9e1d881d17229",
            "d3beb2aa174346ddb3bf7a5a450d4e8b",
            "a967fda351084242a9ce847d82a068c3",
            "c759943c7ea9443f9595d708f2e5d5f3",
            "7d8bfae1aa384ce4b1555e586115ce30"
          ]
        },
        "id": "train_loop_safe",
        "outputId": "dfe19100-2204-4474-a943-2739e84a86ce"
      },
      "outputs": [
        {
          "name": "stderr",
          "output_type": "stream",
          "text": [
            "/home/a/rocm_env/lib/python3.12/site-packages/tqdm/auto.py:21: TqdmWarning: IProgress not found. Please update jupyter and ipywidgets. See https://ipywidgets.readthedocs.io/en/stable/user_install.html\n",
            "  from .autonotebook import tqdm as notebook_tqdm\n",
            "Epoch 1/30: 100%|██████████| 179/179 [03:59<00:00,  1.34s/batch, loss=0.6387, acc=0.725] \n"
          ]
        },
        {
          "name": "stdout",
          "output_type": "stream",
          "text": [
            "[Epoch 01] loss 0.6387  acc 0.725\n"
          ]
        },
        {
          "name": "stderr",
          "output_type": "stream",
          "text": [
            "Epoch 2/30: 100%|██████████| 179/179 [00:47<00:00,  3.80batch/s, loss=0.3901, acc=0.846]\n"
          ]
        },
        {
          "name": "stdout",
          "output_type": "stream",
          "text": [
            "[Epoch 02] loss 0.3901  acc 0.846\n"
          ]
        },
        {
          "name": "stderr",
          "output_type": "stream",
          "text": [
            "Epoch 3/30: 100%|██████████| 179/179 [00:47<00:00,  3.81batch/s, loss=0.2753, acc=0.892]\n"
          ]
        },
        {
          "name": "stdout",
          "output_type": "stream",
          "text": [
            "[Epoch 03] loss 0.2753  acc 0.892\n"
          ]
        },
        {
          "name": "stderr",
          "output_type": "stream",
          "text": [
            "Epoch 4/30: 100%|██████████| 179/179 [00:47<00:00,  3.81batch/s, loss=0.2135, acc=0.919]\n"
          ]
        },
        {
          "name": "stdout",
          "output_type": "stream",
          "text": [
            "[Epoch 04] loss 0.2135  acc 0.919\n"
          ]
        },
        {
          "name": "stderr",
          "output_type": "stream",
          "text": [
            "Epoch 5/30: 100%|██████████| 179/179 [00:46<00:00,  3.81batch/s, loss=0.1557, acc=0.942]\n"
          ]
        },
        {
          "name": "stdout",
          "output_type": "stream",
          "text": [
            "[Epoch 05] loss 0.1557  acc 0.942\n"
          ]
        },
        {
          "name": "stderr",
          "output_type": "stream",
          "text": [
            "Epoch 6/30: 100%|██████████| 179/179 [00:46<00:00,  3.82batch/s, loss=0.1114, acc=0.961]\n"
          ]
        },
        {
          "name": "stdout",
          "output_type": "stream",
          "text": [
            "[Epoch 06] loss 0.1114  acc 0.961\n"
          ]
        },
        {
          "name": "stderr",
          "output_type": "stream",
          "text": [
            "Epoch 7/30: 100%|██████████| 179/179 [00:46<00:00,  3.82batch/s, loss=0.0966, acc=0.965]\n"
          ]
        },
        {
          "name": "stdout",
          "output_type": "stream",
          "text": [
            "[Epoch 07] loss 0.0966  acc 0.965\n"
          ]
        },
        {
          "name": "stderr",
          "output_type": "stream",
          "text": [
            "Epoch 8/30: 100%|██████████| 179/179 [00:46<00:00,  3.82batch/s, loss=0.0777, acc=0.973]\n"
          ]
        },
        {
          "name": "stdout",
          "output_type": "stream",
          "text": [
            "[Epoch 08] loss 0.0777  acc 0.973\n"
          ]
        },
        {
          "name": "stderr",
          "output_type": "stream",
          "text": [
            "Epoch 9/30: 100%|██████████| 179/179 [00:46<00:00,  3.82batch/s, loss=0.0586, acc=0.980]\n"
          ]
        },
        {
          "name": "stdout",
          "output_type": "stream",
          "text": [
            "[Epoch 09] loss 0.0586  acc 0.980\n"
          ]
        },
        {
          "name": "stderr",
          "output_type": "stream",
          "text": [
            "Epoch 10/30: 100%|██████████| 179/179 [00:46<00:00,  3.82batch/s, loss=0.0571, acc=0.981]\n"
          ]
        },
        {
          "name": "stdout",
          "output_type": "stream",
          "text": [
            "[Epoch 10] loss 0.0571  acc 0.981\n"
          ]
        },
        {
          "name": "stderr",
          "output_type": "stream",
          "text": [
            "Epoch 11/30: 100%|██████████| 179/179 [00:46<00:00,  3.82batch/s, loss=0.0502, acc=0.984]\n"
          ]
        },
        {
          "name": "stdout",
          "output_type": "stream",
          "text": [
            "[Epoch 11] loss 0.0502  acc 0.984\n"
          ]
        },
        {
          "name": "stderr",
          "output_type": "stream",
          "text": [
            "Epoch 12/30: 100%|██████████| 179/179 [00:46<00:00,  3.82batch/s, loss=0.0470, acc=0.984]\n"
          ]
        },
        {
          "name": "stdout",
          "output_type": "stream",
          "text": [
            "[Epoch 12] loss 0.0470  acc 0.984\n"
          ]
        },
        {
          "name": "stderr",
          "output_type": "stream",
          "text": [
            "Epoch 13/30: 100%|██████████| 179/179 [00:46<00:00,  3.82batch/s, loss=0.0391, acc=0.988]\n"
          ]
        },
        {
          "name": "stdout",
          "output_type": "stream",
          "text": [
            "[Epoch 13] loss 0.0391  acc 0.988\n"
          ]
        },
        {
          "name": "stderr",
          "output_type": "stream",
          "text": [
            "Epoch 14/30: 100%|██████████| 179/179 [00:46<00:00,  3.83batch/s, loss=0.0341, acc=0.989]\n"
          ]
        },
        {
          "name": "stdout",
          "output_type": "stream",
          "text": [
            "[Epoch 14] loss 0.0341  acc 0.989\n"
          ]
        },
        {
          "name": "stderr",
          "output_type": "stream",
          "text": [
            "Epoch 15/30: 100%|██████████| 179/179 [00:46<00:00,  3.82batch/s, loss=0.0328, acc=0.988]\n"
          ]
        },
        {
          "name": "stdout",
          "output_type": "stream",
          "text": [
            "[Epoch 15] loss 0.0328  acc 0.988\n"
          ]
        },
        {
          "name": "stderr",
          "output_type": "stream",
          "text": [
            "Epoch 16/30: 100%|██████████| 179/179 [00:46<00:00,  3.83batch/s, loss=0.0328, acc=0.988]\n"
          ]
        },
        {
          "name": "stdout",
          "output_type": "stream",
          "text": [
            "[Epoch 16] loss 0.0328  acc 0.988\n"
          ]
        },
        {
          "name": "stderr",
          "output_type": "stream",
          "text": [
            "Epoch 17/30: 100%|██████████| 179/179 [00:46<00:00,  3.83batch/s, loss=0.0211, acc=0.993]\n"
          ]
        },
        {
          "name": "stdout",
          "output_type": "stream",
          "text": [
            "[Epoch 17] loss 0.0211  acc 0.993\n"
          ]
        },
        {
          "name": "stderr",
          "output_type": "stream",
          "text": [
            "Epoch 18/30: 100%|██████████| 179/179 [00:46<00:00,  3.83batch/s, loss=0.0245, acc=0.993]\n"
          ]
        },
        {
          "name": "stdout",
          "output_type": "stream",
          "text": [
            "[Epoch 18] loss 0.0245  acc 0.993\n"
          ]
        },
        {
          "name": "stderr",
          "output_type": "stream",
          "text": [
            "Epoch 19/30: 100%|██████████| 179/179 [00:46<00:00,  3.83batch/s, loss=0.0228, acc=0.992]\n"
          ]
        },
        {
          "name": "stdout",
          "output_type": "stream",
          "text": [
            "[Epoch 19] loss 0.0228  acc 0.992\n"
          ]
        },
        {
          "name": "stderr",
          "output_type": "stream",
          "text": [
            "Epoch 20/30: 100%|██████████| 179/179 [00:46<00:00,  3.83batch/s, loss=0.0191, acc=0.993]\n"
          ]
        },
        {
          "name": "stdout",
          "output_type": "stream",
          "text": [
            "[Epoch 20] loss 0.0191  acc 0.993\n"
          ]
        },
        {
          "name": "stderr",
          "output_type": "stream",
          "text": [
            "Epoch 21/30: 100%|██████████| 179/179 [00:46<00:00,  3.82batch/s, loss=0.0161, acc=0.995]\n"
          ]
        },
        {
          "name": "stdout",
          "output_type": "stream",
          "text": [
            "[Epoch 21] loss 0.0161  acc 0.995\n"
          ]
        },
        {
          "name": "stderr",
          "output_type": "stream",
          "text": [
            "Epoch 22/30: 100%|██████████| 179/179 [00:46<00:00,  3.83batch/s, loss=0.0189, acc=0.993]\n"
          ]
        },
        {
          "name": "stdout",
          "output_type": "stream",
          "text": [
            "[Epoch 22] loss 0.0189  acc 0.993\n"
          ]
        },
        {
          "name": "stderr",
          "output_type": "stream",
          "text": [
            "Epoch 23/30: 100%|██████████| 179/179 [00:46<00:00,  3.83batch/s, loss=0.0175, acc=0.994]\n"
          ]
        },
        {
          "name": "stdout",
          "output_type": "stream",
          "text": [
            "[Epoch 23] loss 0.0175  acc 0.994\n"
          ]
        },
        {
          "name": "stderr",
          "output_type": "stream",
          "text": [
            "Epoch 24/30: 100%|██████████| 179/179 [00:46<00:00,  3.83batch/s, loss=0.0170, acc=0.994]\n"
          ]
        },
        {
          "name": "stdout",
          "output_type": "stream",
          "text": [
            "[Epoch 24] loss 0.0170  acc 0.994\n"
          ]
        },
        {
          "name": "stderr",
          "output_type": "stream",
          "text": [
            "Epoch 25/30: 100%|██████████| 179/179 [00:46<00:00,  3.83batch/s, loss=0.0155, acc=0.995]\n"
          ]
        },
        {
          "name": "stdout",
          "output_type": "stream",
          "text": [
            "[Epoch 25] loss 0.0155  acc 0.995\n"
          ]
        },
        {
          "name": "stderr",
          "output_type": "stream",
          "text": [
            "Epoch 26/30: 100%|██████████| 179/179 [00:46<00:00,  3.83batch/s, loss=0.0143, acc=0.995]\n"
          ]
        },
        {
          "name": "stdout",
          "output_type": "stream",
          "text": [
            "[Epoch 26] loss 0.0143  acc 0.995\n"
          ]
        },
        {
          "name": "stderr",
          "output_type": "stream",
          "text": [
            "Epoch 27/30: 100%|██████████| 179/179 [00:46<00:00,  3.83batch/s, loss=0.0096, acc=0.997]\n"
          ]
        },
        {
          "name": "stdout",
          "output_type": "stream",
          "text": [
            "[Epoch 27] loss 0.0096  acc 0.997\n"
          ]
        },
        {
          "name": "stderr",
          "output_type": "stream",
          "text": [
            "Epoch 28/30: 100%|██████████| 179/179 [00:46<00:00,  3.84batch/s, loss=0.0038, acc=0.999]\n"
          ]
        },
        {
          "name": "stdout",
          "output_type": "stream",
          "text": [
            "[Epoch 28] loss 0.0038  acc 0.999\n"
          ]
        },
        {
          "name": "stderr",
          "output_type": "stream",
          "text": [
            "Epoch 29/30: 100%|██████████| 179/179 [00:46<00:00,  3.83batch/s, loss=0.0059, acc=0.998]\n"
          ]
        },
        {
          "name": "stdout",
          "output_type": "stream",
          "text": [
            "[Epoch 29] loss 0.0059  acc 0.998\n"
          ]
        },
        {
          "name": "stderr",
          "output_type": "stream",
          "text": [
            "Epoch 30/30: 100%|██████████| 179/179 [00:46<00:00,  3.83batch/s, loss=0.0076, acc=0.998]"
          ]
        },
        {
          "name": "stdout",
          "output_type": "stream",
          "text": [
            "[Epoch 30] loss 0.0076  acc 0.998\n",
            "Training done ✅\n"
          ]
        },
        {
          "name": "stderr",
          "output_type": "stream",
          "text": [
            "\n"
          ]
        }
      ],
      "source": [
        "# ========= FAST TRAIN LOOP =========\n",
        "from tqdm.auto import tqdm\n",
        "import torch.backends.cudnn as cudnn\n",
        "\n",
        "EPOCHS = 30\n",
        "BATCH  = 32   # เพิ่ม batch ให้ใหญ่ขึ้นถ้า VRAM พอ\n",
        "\n",
        "USE_FOCAL = True\n",
        "FOCAL_GAMMA = 2.0  # ค่ามาตรฐานที่นิยม: 1.5–2.5\n",
        "\n",
        "\n",
        "criterion = nn.CrossEntropyLoss()\n",
        "\n",
        "optimizer = optim.Adam(model.parameters(), lr=1e-3)\n",
        "\n",
        "# เปิด cuDNN ให้ optimize\n",
        "cudnn.enabled = True\n",
        "cudnn.benchmark = True\n",
        "\n",
        "# เปิด Automatic Mixed Precision (AMP)\n",
        "USE_AMP = True\n",
        "scaler = torch.amp.GradScaler(\"cuda\", enabled=USE_AMP)\n",
        "\n",
        "for ep in range(1, EPOCHS+1):\n",
        "    model.train()\n",
        "    total = correct = 0\n",
        "    run_loss = 0.0\n",
        "\n",
        "    pbar = tqdm(train_ld, desc=f\"Epoch {ep}/{EPOCHS}\", unit=\"batch\", leave=True)\n",
        "    for x, y in pbar:\n",
        "        # ส่งขึ้น GPU (non_blocking=True ช่วยให้เร็วขึ้นตอน pin_memory=True)\n",
        "        x = x.to(device, non_blocking=True)\n",
        "        y = torch.as_tensor(y, dtype=torch.long, device=device)\n",
        "\n",
        "        optimizer.zero_grad(set_to_none=True)\n",
        "        with torch.amp.autocast(\"cuda\", enabled=USE_AMP):\n",
        "            logits = model(x)\n",
        "            loss   = criterion(logits, y)\n",
        "\n",
        "        # backward + optimizer step\n",
        "        scaler.scale(loss).backward()\n",
        "        scaler.unscale_(optimizer)\n",
        "        torch.nn.utils.clip_grad_norm_(model.parameters(), 1.0)\n",
        "        scaler.step(optimizer)\n",
        "        scaler.update()\n",
        "\n",
        "        # metrics\n",
        "        bs = x.size(0)\n",
        "        run_loss += loss.item() * bs\n",
        "        total    += bs\n",
        "        correct  += (logits.argmax(1) == y).sum().item()\n",
        "\n",
        "        # update progress bar\n",
        "        pbar.set_postfix({\n",
        "            \"loss\": f\"{run_loss/total:.4f}\",\n",
        "            \"acc\":  f\"{correct/total:.3f}\"\n",
        "        })\n",
        "\n",
        "    print(f\"[Epoch {ep:02d}] loss {run_loss/total:.4f}  acc {correct/total:.3f}\")\n",
        "\n",
        "print(\"Training done ✅\")\n"
      ]
    },
    {
      "cell_type": "code",
      "execution_count": 11,
      "id": "eval_confmat",
      "metadata": {
        "id": "eval_confmat"
      },
      "outputs": [
        {
          "name": "stdout",
          "output_type": "stream",
          "text": [
            "\n",
            "=== TEST SCORES ===\n",
            "Accuracy               : 0.6566\n",
            "Balanced Accuracy      : 0.5330\n",
            "Top-2 Accuracy         : 0.8154\n",
            "Log Loss               : 2.8935\n",
            "MCC                    : 0.4920\n",
            "Cohen's Kappa          : 0.4649\n",
            "Precision (micro/macro/weighted): 0.6566 / 0.5877 / 0.7826\n",
            "Recall    (micro/macro/weighted): 0.6566 / 0.5330 / 0.6566\n",
            "F1        (micro/macro/weighted): 0.6566 / 0.5169 / 0.6811\n",
            "\n",
            "--- Classification report (per class) ---\n",
            "              precision    recall  f1-score   support\n",
            "\n",
            "           0       0.88      0.41      0.56      1893\n",
            "           1       0.75      0.88      0.81      2328\n",
            "           2       0.70      0.63      0.66       532\n",
            "           4       0.02      0.22      0.04        78\n",
            "\n",
            "    accuracy                           0.66      4831\n",
            "   macro avg       0.59      0.53      0.52      4831\n",
            "weighted avg       0.78      0.66      0.68      4831\n",
            "\n"
          ]
        },
        {
          "data": {
            "image/png": "[encoded data removed]",
            "text/plain": [
              "<Figure size 900x750 with 1 Axes>"
            ]
          },
          "metadata": {},
          "output_type": "display_data"
        },
        {
          "data": {
            "image/png": "[encoded data removed]",
            "text/plain": [
              "<Figure size 900x750 with 2 Axes>"
            ]
          },
          "metadata": {},
          "output_type": "display_data"
        }
      ],
      "source": [
        "# ========= Evaluate + Metrics + Confusion Matrix =========\n",
        "import numpy as np\n",
        "import pandas as pd\n",
        "from sklearn.metrics import (\n",
        "    accuracy_score, balanced_accuracy_score, precision_recall_fscore_support,\n",
        "    classification_report, matthews_corrcoef, cohen_kappa_score,\n",
        "    confusion_matrix, ConfusionMatrixDisplay, log_loss, top_k_accuracy_score\n",
        ")\n",
        "import torch.nn.functional as F\n",
        "\n",
        "model.eval()\n",
        "y_true, y_pred = [], []\n",
        "all_probs = []\n",
        "\n",
        "with torch.inference_mode():\n",
        "    for x, y in test_ld:\n",
        "        x = x.to(device)\n",
        "        logits = model(x)\n",
        "        probs  = F.softmax(logits, dim=1).cpu().numpy()\n",
        "        all_probs.append(probs)\n",
        "\n",
        "        y_true.extend(torch.as_tensor(y).tolist())\n",
        "        y_pred.extend(logits.argmax(1).cpu().tolist())\n",
        "\n",
        "y_true = np.array(y_true)\n",
        "y_pred = np.array(y_pred)\n",
        "probs  = np.concatenate(all_probs, axis=0)  # shape: [N, NUM_CLASSES]\n",
        "\n",
        "# --- Core scores ---\n",
        "acc      = accuracy_score(y_true, y_pred)\n",
        "bal_acc  = balanced_accuracy_score(y_true, y_pred)\n",
        "mcc      = matthews_corrcoef(y_true, y_pred)\n",
        "kappa    = cohen_kappa_score(y_true, y_pred)\n",
        "top2_acc = top_k_accuracy_score(y_true, probs, k=2, labels=list(range(NUM_CLASSES)))\n",
        "lloss    = log_loss(y_true, probs, labels=list(range(NUM_CLASSES)))\n",
        "\n",
        "# --- PRF (average หลายแบบ) ---\n",
        "prec_micro, rec_micro, f1_micro, _ = precision_recall_fscore_support(\n",
        "    y_true, y_pred, average=\"micro\", zero_division=0\n",
        ")\n",
        "prec_macro, rec_macro, f1_macro, _ = precision_recall_fscore_support(\n",
        "    y_true, y_pred, average=\"macro\", zero_division=0\n",
        ")\n",
        "prec_w, rec_w, f1_w, _ = precision_recall_fscore_support(\n",
        "    y_true, y_pred, average=\"weighted\", zero_division=0\n",
        ")\n",
        "\n",
        "print(f\"\\n=== TEST SCORES ===\")\n",
        "print(f\"Accuracy               : {acc:.4f}\")\n",
        "print(f\"Balanced Accuracy      : {bal_acc:.4f}\")\n",
        "print(f\"Top-2 Accuracy         : {top2_acc:.4f}\")\n",
        "print(f\"Log Loss               : {lloss:.4f}\")\n",
        "print(f\"MCC                    : {mcc:.4f}\")\n",
        "print(f\"Cohen's Kappa          : {kappa:.4f}\")\n",
        "print(f\"Precision (micro/macro/weighted): {prec_micro:.4f} / {prec_macro:.4f} / {prec_w:.4f}\")\n",
        "print(f\"Recall    (micro/macro/weighted): {rec_micro:.4f} / {rec_macro:.4f} / {rec_w:.4f}\")\n",
        "print(f\"F1        (micro/macro/weighted): {f1_micro:.4f} / {f1_macro:.4f} / {f1_w:.4f}\")\n",
        "\n",
        "# --- รายงานรายคลาส ---\n",
        "labels_vis = [str(IDX2RAW[i]) for i in range(NUM_CLASSES)]\n",
        "print(\"\\n--- Classification report (per class) ---\")\n",
        "print(classification_report(y_true, y_pred, labels=list(range(NUM_CLASSES)),\n",
        "                            target_names=labels_vis, zero_division=0))\n",
        "\n",
        "# --- Confusion matrices ---\n",
        "cm = confusion_matrix(y_true, y_pred, labels=list(range(NUM_CLASSES)))\n",
        "\n",
        "fig, ax = plt.subplots(figsize=(6,5), dpi=150)\n",
        "ConfusionMatrixDisplay(cm, display_labels=labels_vis).plot(ax=ax, cmap=\"Blues\", values_format=\"d\", colorbar=False)\n",
        "plt.title(\"Confusion Matrix (counts)\"); plt.tight_layout()\n",
        "plt.setp(ax.get_xticklabels(), rotation=90); plt.show()\n",
        "\n",
        "cm_norm = cm.astype(float) / cm.sum(axis=1, keepdims=True)\n",
        "fig, ax = plt.subplots(figsize=(6,5), dpi=150)\n",
        "ConfusionMatrixDisplay(cm_norm, display_labels=labels_vis).plot(ax=ax, cmap=\"Blues\", values_format=\".2f\", colorbar=True)\n",
        "plt.title(\"Confusion Matrix (row-normalized)\"); plt.tight_layout()\n",
        "plt.setp(ax.get_xticklabels(), rotation=90); plt.show()\n",
        "\n",
        "# (ออปชัน) เซฟรายงานรายคลาสเป็น CSV\n",
        "per_class = precision_recall_fscore_support(y_true, y_pred,\n",
        "                                            labels=list(range(NUM_CLASSES)),\n",
        "                                            zero_division=0)\n",
        "df_report = pd.DataFrame({\n",
        "    \"class_raw\": labels_vis,\n",
        "    \"precision\": per_class[0],\n",
        "    \"recall\":    per_class[1],\n",
        "    \"f1\":        per_class[2],\n",
        "    \"support\":   per_class[3]\n",
        "})\n",
        "# df_report.to_csv(\"per_class_report.csv\", index=False)\n"
      ]
    },
    {
      "cell_type": "code",
      "execution_count": null,
      "id": "dfce1806",
      "metadata": {},
      "outputs": [],
      "source": []
    }
  ],
  "metadata": {
    "accelerator": "GPU",
    "colab": {
      "gpuType": "T4",
      "provenance": []
    },
    "kernelspec": {
      "display_name": "base",
      "language": "python",
      "name": "python3"
    },
    "language_info": {
      "codemirror_mode": {
        "name": "ipython",
        "version": 3
      },
      "file_extension": ".py",
      "mimetype": "text/x-python",
      "name": "python",
      "nbconvert_exporter": "python",
      "pygments_lexer": "ipython3",
      "version": "3.12.4"
    },
    "widgets": {
      "application/vnd.jupyter.widget-state+json": {
        "02556a8473c64420b0e52504f556faa8": {
          "model_module": "@jupyter-widgets/controls",
          "model_module_version": "1.5.0",
          "model_name": "HTMLModel",
          "state": {
            "_dom_classes": [],
            "_model_module": "@jupyter-widgets/controls",
            "_model_module_version": "1.5.0",
            "_model_name": "HTMLModel",
            "_view_count": null,
            "_view_module": "@jupyter-widgets/controls",
            "_view_module_version": "1.5.0",
            "_view_name": "HTMLView",
            "description": "",
            "description_tooltip": null,
            "layout": "IPY_MODEL_3a2afb6f8f1e4df7b4791a575085b940",
            "placeholder": "​",
            "style": "IPY_MODEL_05cdd4eb841a4d1c86c9e1d881d17229",
            "value": "Epoch 1/30:  23%"
          }
        },
        "05cdd4eb841a4d1c86c9e1d881d17229": {
          "model_module": "@jupyter-widgets/controls",
          "model_module_version": "1.5.0",
          "model_name": "DescriptionStyleModel",
          "state": {
            "_model_module": "@jupyter-widgets/controls",
            "_model_module_version": "1.5.0",
            "_model_name": "DescriptionStyleModel",
            "_view_count": null,
            "_view_module": "@jupyter-widgets/base",
            "_view_module_version": "1.2.0",
            "_view_name": "StyleView",
            "description_width": ""
          }
        },
        "0798fca77502449ca33a1113ff377e38": {
          "model_module": "@jupyter-widgets/controls",
          "model_module_version": "1.5.0",
          "model_name": "FloatProgressModel",
          "state": {
            "_dom_classes": [],
            "_model_module": "@jupyter-widgets/controls",
            "_model_module_version": "1.5.0",
            "_model_name": "FloatProgressModel",
            "_view_count": null,
            "_view_module": "@jupyter-widgets/controls",
            "_view_module_version": "1.5.0",
            "_view_name": "ProgressView",
            "bar_style": "",
            "description": "",
            "description_tooltip": null,
            "layout": "IPY_MODEL_d3beb2aa174346ddb3bf7a5a450d4e8b",
            "max": 179,
            "min": 0,
            "orientation": "horizontal",
            "style": "IPY_MODEL_a967fda351084242a9ce847d82a068c3",
            "value": 42
          }
        },
        "0df1c59c93ec453889a9528306b14ea4": {
          "model_module": "@jupyter-widgets/base",
          "model_module_version": "1.2.0",
          "model_name": "LayoutModel",
          "state": {
            "_model_module": "@jupyter-widgets/base",
            "_model_module_version": "1.2.0",
            "_model_name": "LayoutModel",
            "_view_count": null,
            "_view_module": "@jupyter-widgets/base",
            "_view_module_version": "1.2.0",
            "_view_name": "LayoutView",
            "align_content": null,
            "align_items": null,
            "align_self": null,
            "border": null,
            "bottom": null,
            "display": null,
            "flex": null,
            "flex_flow": null,
            "grid_area": null,
            "grid_auto_columns": null,
            "grid_auto_flow": null,
            "grid_auto_rows": null,
            "grid_column": null,
            "grid_gap": null,
            "grid_row": null,
            "grid_template_areas": null,
            "grid_template_columns": null,
            "grid_template_rows": null,
            "height": null,
            "justify_content": null,
            "justify_items": null,
            "left": null,
            "margin": null,
            "max_height": null,
            "max_width": null,
            "min_height": null,
            "min_width": null,
            "object_fit": null,
            "object_position": null,
            "order": null,
            "overflow": null,
            "overflow_x": null,
            "overflow_y": null,
            "padding": null,
            "right": null,
            "top": null,
            "visibility": null,
            "width": null
          }
        },
        "3a2afb6f8f1e4df7b4791a575085b940": {
          "model_module": "@jupyter-widgets/base",
          "model_module_version": "1.2.0",
          "model_name": "LayoutModel",
          "state": {
            "_model_module": "@jupyter-widgets/base",
            "_model_module_version": "1.2.0",
            "_model_name": "LayoutModel",
            "_view_count": null,
            "_view_module": "@jupyter-widgets/base",
            "_view_module_version": "1.2.0",
            "_view_name": "LayoutView",
            "align_content": null,
            "align_items": null,
            "align_self": null,
            "border": null,
            "bottom": null,
            "display": null,
            "flex": null,
            "flex_flow": null,
            "grid_area": null,
            "grid_auto_columns": null,
            "grid_auto_flow": null,
            "grid_auto_rows": null,
            "grid_column": null,
            "grid_gap": null,
            "grid_row": null,
            "grid_template_areas": null,
            "grid_template_columns": null,
            "grid_template_rows": null,
            "height": null,
            "justify_content": null,
            "justify_items": null,
            "left": null,
            "margin": null,
            "max_height": null,
            "max_width": null,
            "min_height": null,
            "min_width": null,
            "object_fit": null,
            "object_position": null,
            "order": null,
            "overflow": null,
            "overflow_x": null,
            "overflow_y": null,
            "padding": null,
            "right": null,
            "top": null,
            "visibility": null,
            "width": null
          }
        },
        "42d6453b3c81448e87ec0f478701dc02": {
          "model_module": "@jupyter-widgets/controls",
          "model_module_version": "1.5.0",
          "model_name": "HBoxModel",
          "state": {
            "_dom_classes": [],
            "_model_module": "@jupyter-widgets/controls",
            "_model_module_version": "1.5.0",
            "_model_name": "HBoxModel",
            "_view_count": null,
            "_view_module": "@jupyter-widgets/controls",
            "_view_module_version": "1.5.0",
            "_view_name": "HBoxView",
            "box_style": "",
            "children": [
              "IPY_MODEL_02556a8473c64420b0e52504f556faa8",
              "IPY_MODEL_0798fca77502449ca33a1113ff377e38",
              "IPY_MODEL_9ca3a2f9945940f781f862a08a26f448"
            ],
            "layout": "IPY_MODEL_0df1c59c93ec453889a9528306b14ea4"
          }
        },
        "7d8bfae1aa384ce4b1555e586115ce30": {
          "model_module": "@jupyter-widgets/controls",
          "model_module_version": "1.5.0",
          "model_name": "DescriptionStyleModel",
          "state": {
            "_model_module": "@jupyter-widgets/controls",
            "_model_module_version": "1.5.0",
            "_model_name": "DescriptionStyleModel",
            "_view_count": null,
            "_view_module": "@jupyter-widgets/base",
            "_view_module_version": "1.2.0",
            "_view_name": "StyleView",
            "description_width": ""
          }
        },
        "9ca3a2f9945940f781f862a08a26f448": {
          "model_module": "@jupyter-widgets/controls",
          "model_module_version": "1.5.0",
          "model_name": "HTMLModel",
          "state": {
            "_dom_classes": [],
            "_model_module": "@jupyter-widgets/controls",
            "_model_module_version": "1.5.0",
            "_model_name": "HTMLModel",
            "_view_count": null,
            "_view_module": "@jupyter-widgets/controls",
            "_view_module_version": "1.5.0",
            "_view_name": "HTMLView",
            "description": "",
            "description_tooltip": null,
            "layout": "IPY_MODEL_c759943c7ea9443f9595d708f2e5d5f3",
            "placeholder": "​",
            "style": "IPY_MODEL_7d8bfae1aa384ce4b1555e586115ce30",
            "value": " 42/179 [06:52&lt;23:47, 10.42s/batch, loss=0.4973, acc=0.791]"
          }
        },
        "a967fda351084242a9ce847d82a068c3": {
          "model_module": "@jupyter-widgets/controls",
          "model_module_version": "1.5.0",
          "model_name": "ProgressStyleModel",
          "state": {
            "_model_module": "@jupyter-widgets/controls",
            "_model_module_version": "1.5.0",
            "_model_name": "ProgressStyleModel",
            "_view_count": null,
            "_view_module": "@jupyter-widgets/base",
            "_view_module_version": "1.2.0",
            "_view_name": "StyleView",
            "bar_color": null,
            "description_width": ""
          }
        },
        "c759943c7ea9443f9595d708f2e5d5f3": {
          "model_module": "@jupyter-widgets/base",
          "model_module_version": "1.2.0",
          "model_name": "LayoutModel",
          "state": {
            "_model_module": "@jupyter-widgets/base",
            "_model_module_version": "1.2.0",
            "_model_name": "LayoutModel",
            "_view_count": null,
            "_view_module": "@jupyter-widgets/base",
            "_view_module_version": "1.2.0",
            "_view_name": "LayoutView",
            "align_content": null,
            "align_items": null,
            "align_self": null,
            "border": null,
            "bottom": null,
            "display": null,
            "flex": null,
            "flex_flow": null,
            "grid_area": null,
            "grid_auto_columns": null,
            "grid_auto_flow": null,
            "grid_auto_rows": null,
            "grid_column": null,
            "grid_gap": null,
            "grid_row": null,
            "grid_template_areas": null,
            "grid_template_columns": null,
            "grid_template_rows": null,
            "height": null,
            "justify_content": null,
            "justify_items": null,
            "left": null,
            "margin": null,
            "max_height": null,
            "max_width": null,
            "min_height": null,
            "min_width": null,
            "object_fit": null,
            "object_position": null,
            "order": null,
            "overflow": null,
            "overflow_x": null,
            "overflow_y": null,
            "padding": null,
            "right": null,
            "top": null,
            "visibility": null,
            "width": null
          }
        },
        "d3beb2aa174346ddb3bf7a5a450d4e8b": {
          "model_module": "@jupyter-widgets/base",
          "model_module_version": "1.2.0",
          "model_name": "LayoutModel",
          "state": {
            "_model_module": "@jupyter-widgets/base",
            "_model_module_version": "1.2.0",
            "_model_name": "LayoutModel",
            "_view_count": null,
            "_view_module": "@jupyter-widgets/base",
            "_view_module_version": "1.2.0",
            "_view_name": "LayoutView",
            "align_content": null,
            "align_items": null,
            "align_self": null,
            "border": null,
            "bottom": null,
            "display": null,
            "flex": null,
            "flex_flow": null,
            "grid_area": null,
            "grid_auto_columns": null,
            "grid_auto_flow": null,
            "grid_auto_rows": null,
            "grid_column": null,
            "grid_gap": null,
            "grid_row": null,
            "grid_template_areas": null,
            "grid_template_columns": null,
            "grid_template_rows": null,
            "height": null,
            "justify_content": null,
            "justify_items": null,
            "left": null,
            "margin": null,
            "max_height": null,
            "max_width": null,
            "min_height": null,
            "min_width": null,
            "object_fit": null,
            "object_position": null,
            "order": null,
            "overflow": null,
            "overflow_x": null,
            "overflow_y": null,
            "padding": null,
            "right": null,
            "top": null,
            "visibility": null,
            "width": null
          }
        }
      }
    }
  },
  "nbformat": 4,
  "nbformat_minor": 5
}
